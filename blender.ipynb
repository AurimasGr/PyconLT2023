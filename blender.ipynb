{
 "cells": [
  {
   "cell_type": "code",
   "execution_count": null,
   "id": "bd937fe2",
   "metadata": {},
   "outputs": [],
   "source": [
    "from IPython.display import display, HTML\n",
    "import sys\n",
    "display(HTML(\"<style>.container { width:100% !important; }</style>\"))\n",
    "sys.path.append('/opt/homebrew/lib/python3.11/site-packages')"
   ]
  },
  {
   "cell_type": "code",
   "execution_count": null,
   "id": "6d0cfe67",
   "metadata": {},
   "outputs": [],
   "source": [
    "import requests\n",
    "from datetime import datetime\n",
    "import json"
   ]
  },
  {
   "cell_type": "code",
   "execution_count": null,
   "id": "0c6b472f",
   "metadata": {},
   "outputs": [],
   "source": [
    "URL_AMOUNT = \"http://localhost:8086/predict/v1\"\n",
    "TIME = \"http://localhost:8087/predict/v1\""
   ]
  },
  {
   "cell_type": "code",
   "execution_count": null,
   "id": "fe9e9f6a",
   "metadata": {},
   "outputs": [],
   "source": [
    "headers = {\"Content-Type\": \"application/json\",\n",
    "          \"accept\": \"application/json\"}"
   ]
  },
  {
   "cell_type": "code",
   "execution_count": null,
   "id": "1c8219b8",
   "metadata": {},
   "outputs": [],
   "source": [
    "data_client_1 = {\"PULocationID\": 7,\n",
    "       \"DOLocationID\": 114,\n",
    "       \"TripDistance\": 6.32,\n",
    "       \"PickupDatetime\": \"2023-02-01 00:10:20\"}\n",
    "\n",
    "data_driver_to_client_1 = {\"PULocationID\": 223,\n",
    "       \"DOLocationID\": 7,\n",
    "       \"TripDistance\": 1.18,\n",
    "       \"PickupDatetime\": \"2023-02-01 00:03:47\"}"
   ]
  },
  {
   "cell_type": "code",
   "execution_count": null,
   "id": "29e4aa88",
   "metadata": {},
   "outputs": [],
   "source": [
    "predicted_time_driver = requests.post(url_time, data=json.dumps(data_me), headers=headers).json()\n",
    "predicted_time_driver"
   ]
  },
  {
   "cell_type": "code",
   "execution_count": null,
   "id": "02aa6b92",
   "metadata": {},
   "outputs": [],
   "source": [
    "predicted_amount_client = requests.post(url_amount, data=json.dumps(data_client), headers=headers).json()\n",
    "predicted_time_client = requests.post(url_time, data=json.dumps(data_client), headers=headers).json()\n",
    "predicted_amount_client\n",
    "predicted_time_client"
   ]
  },
  {
   "cell_type": "code",
   "execution_count": null,
   "id": "ea1e4cf4",
   "metadata": {},
   "outputs": [],
   "source": [
    "score = predicted_amount_client[\"message\"] / (predicted_time_me[\"message\"] + predicted_time_client[\"message\"])"
   ]
  },
  {
   "cell_type": "code",
   "execution_count": null,
   "id": "3499c840",
   "metadata": {},
   "outputs": [],
   "source": [
    "[\n",
    "    {\"client\": {\"PULocationID\": 7,\n",
    "                \"DOLocationID\": 114,\n",
    "                \"TripDistance\": 6.32},\n",
    "    \"driver\": {\"PULocationID\": 223,\n",
    "               \"DOLocationID\": 7,\n",
    "               \"TripDistance\": 1.18,\n",
    "               \"PickupDatetime\": \"2023-02-01 00:03:47\"}},\n",
    "    \n",
    "     {\"client\": {\"PULocationID\": 7,\n",
    "                 \"DOLocationID\": 114,\n",
    "                 \"TripDistance\": 6.32},\n",
    "    \"driver\": {\"PULocationID\": 223,\n",
    "               \"DOLocationID\": 7,\n",
    "               \"TripDistance\": 1.18,\n",
    "               \"PickupDatetime\": \"2023-02-01 00:03:47\"}},\n",
    "    \n",
    "    {\"client\": {\"PULocationID\": 7,\n",
    "                \"DOLocationID\": 114,\n",
    "                \"TripDistance\": 6.32},\n",
    "    \"driver\": {\"PULocationID\": 223,\n",
    "               \"DOLocationID\": 7,\n",
    "               \"TripDistance\": 1.18,\n",
    "               \"PickupDatetime\": \"2023-02-01 00:03:47\"}}\n",
    "]"
   ]
  }
 ],
 "metadata": {
  "kernelspec": {
   "display_name": "Python 3 (ipykernel)",
   "language": "python",
   "name": "python3"
  },
  "language_info": {
   "codemirror_mode": {
    "name": "ipython",
    "version": 3
   },
   "file_extension": ".py",
   "mimetype": "text/x-python",
   "name": "python",
   "nbconvert_exporter": "python",
   "pygments_lexer": "ipython3",
   "version": "3.8.9"
  }
 },
 "nbformat": 4,
 "nbformat_minor": 5
}
