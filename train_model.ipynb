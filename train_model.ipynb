{
 "cells": [
  {
   "cell_type": "code",
   "execution_count": null,
   "id": "a9893d28",
   "metadata": {},
   "outputs": [],
   "source": [
    "from IPython.display import display, HTML\n",
    "import sys\n",
    "display(HTML(\"<style>.container { width:100% !important; }</style>\"))\n",
    "sys.path.append('/opt/homebrew/lib/python3.11/site-packages')"
   ]
  },
  {
   "cell_type": "code",
   "execution_count": null,
   "id": "2c7f5d4f",
   "metadata": {},
   "outputs": [],
   "source": [
    "import pandas as pd\n",
    "import seaborn as sns\n",
    "from sklearn.ensemble import RandomForestRegressor\n",
    "from sklearn.metrics import r2_score, mean_absolute_error, mean_squared_error\n",
    "import pickle\n",
    "import numpy as np\n",
    "import matplotlib.pyplot as plt"
   ]
  },
  {
   "cell_type": "code",
   "execution_count": null,
   "id": "b03fbeba",
   "metadata": {},
   "outputs": [],
   "source": [
    "dataset_list = [\"green_tripdata_2023-02.parquet\",\n",
    "                \"green_tripdata_2023-01.parquet\",\n",
    "                \"green_tripdata_2022-12.parquet\",\n",
    "                \"green_tripdata_2022-11.parquet\",\n",
    "                \"green_tripdata_2022-10.parquet\",\n",
    "                \"green_tripdata_2022-09.parquet\",\n",
    "                \"green_tripdata_2022-08.parquet\",\n",
    "                \"green_tripdata_2022-07.parquet\",\n",
    "                \"green_tripdata_2022-06.parquet\",\n",
    "                \"green_tripdata_2022-05.parquet\",\n",
    "                \"green_tripdata_2022-04.parquet\",\n",
    "                \"green_tripdata_2022-03.parquet\",\n",
    "                \"green_tripdata_2022-02.parquet\",\n",
    "                \"green_tripdata_2022-01.parquet\"]"
   ]
  },
  {
   "cell_type": "code",
   "execution_count": null,
   "id": "5a8a1541",
   "metadata": {},
   "outputs": [],
   "source": [
    "df_list = []\n",
    "for name in dataset_list:\n",
    "    df_list.append(pd.read_parquet(f\"https://d37ci6vzurychx.cloudfront.net/trip-data/{name}\"))"
   ]
  },
  {
   "cell_type": "code",
   "execution_count": null,
   "id": "bf4a775b",
   "metadata": {},
   "outputs": [],
   "source": [
    "df_full = pd.concat(df_list)"
   ]
  },
  {
   "cell_type": "code",
   "execution_count": null,
   "id": "4983c526",
   "metadata": {},
   "outputs": [],
   "source": [
    "len(df_full)"
   ]
  },
  {
   "cell_type": "code",
   "execution_count": null,
   "id": "9d18d017",
   "metadata": {},
   "outputs": [],
   "source": [
    "def filter_data(df):\n",
    "    \n",
    "    def _filter_ratecodes(df):\n",
    "        \n",
    "        return df[df[\"RatecodeID\"] == 1]\n",
    "    \n",
    "    def _filter_payment_type(df):\n",
    "        \n",
    "        return df[(df[\"payment_type\"] == 1)]\n",
    "    \n",
    "    def _filter_trip_type(df):\n",
    "        \n",
    "        return df[df[\"trip_type\"] == 1]\n",
    "    \n",
    "    return _filter_ratecodes(_filter_payment_type(_filter_trip_type(df)))"
   ]
  },
  {
   "cell_type": "code",
   "execution_count": null,
   "id": "b1d598d3",
   "metadata": {},
   "outputs": [],
   "source": [
    "df_filtered = filter_data(df_full)"
   ]
  },
  {
   "cell_type": "code",
   "execution_count": null,
   "id": "b332aef1",
   "metadata": {},
   "outputs": [],
   "source": [
    "len(df_filtered)"
   ]
  },
  {
   "cell_type": "code",
   "execution_count": null,
   "id": "c3c9abc0",
   "metadata": {},
   "outputs": [],
   "source": [
    "df_selected = df_filtered[[\"lpep_pickup_datetime\",\n",
    "                           \"lpep_dropoff_datetime\",\n",
    "                           \"PULocationID\",\n",
    "                           \"DOLocationID\",\n",
    "                           \"trip_distance\",\n",
    "                           \"fare_amount\",\n",
    "                           \"total_amount\"]]"
   ]
  },
  {
   "cell_type": "code",
   "execution_count": null,
   "id": "61bdb5a5",
   "metadata": {},
   "outputs": [],
   "source": [
    "sns.histplot(df_selected[\"trip_distance\"], label=\"trip_distance\")"
   ]
  },
  {
   "cell_type": "code",
   "execution_count": null,
   "id": "ae8bc331",
   "metadata": {},
   "outputs": [],
   "source": [
    "sns.histplot(df_selected[\"fare_amount\"], label=\"fare_amount\")"
   ]
  },
  {
   "cell_type": "code",
   "execution_count": null,
   "id": "c7480d9b",
   "metadata": {},
   "outputs": [],
   "source": [
    "df_selected[\"travel_time\"] = ((df_selected[\"lpep_dropoff_datetime\"] - df_selected[\"lpep_pickup_datetime\"])\n",
    "                              .apply(lambda x: x.total_seconds() / 60))"
   ]
  },
  {
   "cell_type": "code",
   "execution_count": null,
   "id": "baeff88e",
   "metadata": {},
   "outputs": [],
   "source": [
    "df_selected[\"PULocationID\"] = df_selected[\"PULocationID\"].apply(lambda x: str(x))\n",
    "df_selected[\"DOLocationID\"] = df_selected[\"DOLocationID\"].apply(lambda x: str(x))"
   ]
  },
  {
   "cell_type": "code",
   "execution_count": null,
   "id": "bb57fcdb",
   "metadata": {},
   "outputs": [],
   "source": [
    "df_selected[\"PU_DO\"] = df_selected[\"PULocationID\"] + \"_\" + df_selected[\"DOLocationID\"]"
   ]
  },
  {
   "cell_type": "code",
   "execution_count": null,
   "id": "8fcf6279",
   "metadata": {},
   "outputs": [],
   "source": [
    "df_selected = df_selected[(df_selected[\"travel_time\"] > 1) & (df_selected[\"travel_time\"] < 600)]"
   ]
  },
  {
   "cell_type": "code",
   "execution_count": null,
   "id": "f6eb0eb6",
   "metadata": {},
   "outputs": [],
   "source": [
    "df_selected = df_selected[df_selected[\"fare_amount\"] > 0]"
   ]
  },
  {
   "cell_type": "code",
   "execution_count": null,
   "id": "265f3f11",
   "metadata": {},
   "outputs": [],
   "source": [
    "df_selected = df_selected[df_selected[\"trip_distance\"] < 100]"
   ]
  },
  {
   "cell_type": "code",
   "execution_count": null,
   "id": "e8078fc0",
   "metadata": {},
   "outputs": [],
   "source": [
    "df_selected[\"pickup_year\"] = df_selected[\"lpep_pickup_datetime\"].apply(lambda x: x.year)\n",
    "df_selected[\"pickup_month\"] = df_selected[\"lpep_pickup_datetime\"].apply(lambda x: x.month)\n",
    "df_selected[\"pickup_day\"] = df_selected[\"lpep_pickup_datetime\"].apply(lambda x: x.day)\n",
    "df_selected[\"pickup_hour\"] = df_selected[\"lpep_pickup_datetime\"].apply(lambda x: x.hour)\n",
    "df_selected[\"pickup_minute\"] = df_selected[\"lpep_pickup_datetime\"].apply(lambda x: x.minute)\n",
    "df_selected[\"pickup_dow\"] = df_selected[\"lpep_pickup_datetime\"].apply(lambda x: x.day_of_week)"
   ]
  },
  {
   "cell_type": "code",
   "execution_count": null,
   "id": "123d97e6",
   "metadata": {},
   "outputs": [],
   "source": [
    "df_selected[\"PULocationID\"] = df_selected[\"PULocationID\"].apply(lambda x: int(x))\n",
    "df_selected[\"DOLocationID\"] = df_selected[\"DOLocationID\"].apply(lambda x: int(x))"
   ]
  },
  {
   "cell_type": "code",
   "execution_count": null,
   "id": "25813f58",
   "metadata": {},
   "outputs": [],
   "source": [
    "len(df_selected[\"PU_DO\"].unique())"
   ]
  },
  {
   "cell_type": "code",
   "execution_count": null,
   "id": "4d6a4b8d",
   "metadata": {},
   "outputs": [],
   "source": [
    "df_train = df_selected[df_selected[\"pickup_year\"] == 2022]"
   ]
  },
  {
   "cell_type": "code",
   "execution_count": null,
   "id": "5c277dbe",
   "metadata": {},
   "outputs": [],
   "source": [
    "PU_DO_map = (df_train[[\"PU_DO\", \"fare_amount\"]]\n",
    " .groupby(\"PU_DO\")\n",
    " .count()\n",
    " .reset_index()\n",
    " .rename(columns = {\"fare_amount\": \"count\"})\n",
    " .sort_values(by=\"count\", ascending=False)\n",
    " .reset_index()\n",
    " .drop(columns=[\"index\"])\n",
    " .reset_index()\n",
    " .rename(columns = {\"index\": \"PU_DO_num\"}))\n",
    "\n",
    "PU_DO_map[\"PU_DO_num\"] = PU_DO_map[\"PU_DO_num\"] + 1\n",
    "PU_DO_map[\"PU_DO_num\"] = PU_DO_map[\"PU_DO_num\"].apply(lambda x: x if x < 10000 else 10000)"
   ]
  },
  {
   "cell_type": "code",
   "execution_count": null,
   "id": "e88e8278",
   "metadata": {},
   "outputs": [],
   "source": [
    "PU_DO_map_dict = PU_DO_map[[\"PU_DO\", \"PU_DO_num\"]].set_index(\"PU_DO\")[\"PU_DO_num\"].to_dict()"
   ]
  },
  {
   "cell_type": "code",
   "execution_count": null,
   "id": "328810d8",
   "metadata": {},
   "outputs": [],
   "source": [
    "with open('data/PU_DO_map.pkl', 'wb') as f:\n",
    "    pickle.dump(PU_DO_map_dict, f)"
   ]
  },
  {
   "cell_type": "code",
   "execution_count": null,
   "id": "3839acda",
   "metadata": {},
   "outputs": [],
   "source": [
    "df_train = pd.merge(\n",
    "    df_train,\n",
    "    PU_DO_map,\n",
    "    how=\"inner\",\n",
    "    on=[\"PU_DO\"]\n",
    ")"
   ]
  },
  {
   "cell_type": "code",
   "execution_count": null,
   "id": "7d7d9757",
   "metadata": {},
   "outputs": [],
   "source": [
    "X_train = df_train[[\"PULocationID\", \"DOLocationID\", \"trip_distance\", \"pickup_month\", \"pickup_day\", \"pickup_hour\", \"pickup_minute\", \"pickup_dow\", \"PU_DO_num\"]]\n",
    "Y_train_fare = df_train[\"fare_amount\"]\n",
    "Y_train_total = df_train[\"total_amount\"]\n",
    "Y_train_time = df_train[\"travel_time\"]"
   ]
  },
  {
   "cell_type": "code",
   "execution_count": null,
   "id": "4dafe1f5",
   "metadata": {},
   "outputs": [],
   "source": [
    "# create regressor object\n",
    "regressor_fare = RandomForestRegressor(n_estimators=10, random_state=0)\n",
    " \n",
    "# fit the regressor with x and y data\n",
    "regressor_fare.fit(X_train, Y_train_fare)"
   ]
  },
  {
   "cell_type": "code",
   "execution_count": null,
   "id": "223f068a",
   "metadata": {},
   "outputs": [],
   "source": [
    "# create regressor object\n",
    "regressor_time = RandomForestRegressor(n_estimators=10, random_state=0)\n",
    " \n",
    "# fit the regressor with x and y data\n",
    "regressor_time.fit(X_train, Y_train_time)"
   ]
  },
  {
   "cell_type": "code",
   "execution_count": null,
   "id": "546f64ac",
   "metadata": {},
   "outputs": [],
   "source": [
    "# create regressor object\n",
    "regressor_total = RandomForestRegressor(n_estimators=10, random_state=0)\n",
    " \n",
    "# fit the regressor with x and y data\n",
    "regressor_total.fit(X_train, Y_train_total)"
   ]
  },
  {
   "cell_type": "code",
   "execution_count": null,
   "id": "eb492474",
   "metadata": {},
   "outputs": [],
   "source": [
    "with open('data/model_fare_amount.pkl', 'wb') as f:\n",
    "    pickle.dump(regressor_fare, f)"
   ]
  },
  {
   "cell_type": "code",
   "execution_count": null,
   "id": "9e71a751",
   "metadata": {},
   "outputs": [],
   "source": [
    "with open('data/model_travel_time.pkl', 'wb') as f:\n",
    "    pickle.dump(regressor_time, f)"
   ]
  },
  {
   "cell_type": "code",
   "execution_count": null,
   "id": "b22636b2",
   "metadata": {},
   "outputs": [],
   "source": [
    "with open('data/model_total_amount.pkl', 'wb') as f:\n",
    "    pickle.dump(regressor_total, f)"
   ]
  },
  {
   "cell_type": "code",
   "execution_count": null,
   "id": "64ed1e51",
   "metadata": {},
   "outputs": [],
   "source": [
    "def calculate_evaluation_metrics(model, dataset, features, col_predict):\n",
    "    \n",
    "    r2 = r2_score(model.predict(dataset[features]), dataset[col_predict])\n",
    "    mae = mean_absolute_error(model.predict(dataset[features]), dataset[col_predict])\n",
    "    mse = mean_squared_error(model.predict(dataset[features]), dataset[col_predict])\n",
    "    \n",
    "    print(f\"r2: {r2}, mae: {mae}, mse: {mse}\")\n",
    "    \n",
    "    return r2, mae, mse"
   ]
  },
  {
   "cell_type": "code",
   "execution_count": null,
   "id": "82c964d5",
   "metadata": {},
   "outputs": [],
   "source": [
    "calculate_evaluation_metrics(regressor_fare, df_train, [\"PULocationID\", \"DOLocationID\", \"trip_distance\", \"pickup_month\", \"pickup_day\", \"pickup_hour\", \"pickup_minute\", \"pickup_dow\", \"PU_DO_num\"], \"fare_amount\")"
   ]
  },
  {
   "cell_type": "code",
   "execution_count": null,
   "id": "1cb9347c",
   "metadata": {},
   "outputs": [],
   "source": [
    "calculate_evaluation_metrics(regressor_time, df_train, [\"PULocationID\", \"DOLocationID\", \"trip_distance\", \"pickup_month\", \"pickup_day\", \"pickup_hour\", \"pickup_minute\", \"pickup_dow\", \"PU_DO_num\"], \"travel_time\")"
   ]
  },
  {
   "cell_type": "code",
   "execution_count": null,
   "id": "cbfbc258",
   "metadata": {},
   "outputs": [],
   "source": [
    "calculate_evaluation_metrics(regressor_total, df_train, [\"PULocationID\", \"DOLocationID\", \"trip_distance\", \"pickup_month\", \"pickup_day\", \"pickup_hour\", \"pickup_minute\", \"pickup_dow\", \"PU_DO_num\"], \"total_amount\")"
   ]
  },
  {
   "cell_type": "code",
   "execution_count": null,
   "id": "a6ed38f4",
   "metadata": {},
   "outputs": [],
   "source": [
    "def plot_feature_importance(importance,names,model_type):\n",
    "\n",
    "    #Create arrays from feature importance and feature names\n",
    "    feature_importance = np.array(importance)\n",
    "    feature_names = np.array(names)\n",
    "\n",
    "    #Create a DataFrame using a Dictionary\n",
    "    data={'feature_names':feature_names,'feature_importance':feature_importance}\n",
    "    fi_df = pd.DataFrame(data)\n",
    "\n",
    "    #Sort the DataFrame in order decreasing feature importance\n",
    "    fi_df.sort_values(by=['feature_importance'], ascending=False,inplace=True)\n",
    "\n",
    "    #Define size of bar plot\n",
    "    plt.figure(figsize=(10,8))\n",
    "    #Plot Searborn bar chart\n",
    "    sns.barplot(x=fi_df['feature_importance'], y=fi_df['feature_names'])\n",
    "    #Add chart labels\n",
    "    plt.title(model_type + 'FEATURE IMPORTANCE')\n",
    "    plt.xlabel('FEATURE IMPORTANCE')\n",
    "    plt.ylabel('FEATURE NAMES')\n",
    "    \n",
    "plot_feature_importance(regressor_time.feature_importances_, X_train.columns, 'RANDOM FOREST')"
   ]
  },
  {
   "cell_type": "code",
   "execution_count": null,
   "id": "b67197ff",
   "metadata": {},
   "outputs": [],
   "source": []
  }
 ],
 "metadata": {
  "kernelspec": {
   "display_name": "Python 3 (ipykernel)",
   "language": "python",
   "name": "python3"
  },
  "language_info": {
   "codemirror_mode": {
    "name": "ipython",
    "version": 3
   },
   "file_extension": ".py",
   "mimetype": "text/x-python",
   "name": "python",
   "nbconvert_exporter": "python",
   "pygments_lexer": "ipython3",
   "version": "3.8.9"
  }
 },
 "nbformat": 4,
 "nbformat_minor": 5
}
